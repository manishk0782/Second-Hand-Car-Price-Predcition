{
 "cells": [
  {
   "cell_type": "markdown",
   "id": "ac349696",
   "metadata": {},
   "source": [
    "# CAR PRICE PREDICTION"
   ]
  },
  {
   "cell_type": "code",
   "execution_count": 1080,
   "id": "0501c6da",
   "metadata": {},
   "outputs": [],
   "source": [
    "#importing important libraries\n",
    "import numpy as np\n",
    "import pandas as pd\n",
    "import seaborn as sns\n",
    "import matplotlib.pyplot as plt\n",
    "%matplotlib inline\n"
   ]
  },
  {
   "cell_type": "code",
   "execution_count": 1081,
   "id": "83d85dea",
   "metadata": {},
   "outputs": [],
   "source": [
    "#importing the dataset now\n",
    "data = pd.read_csv(\"cardata.csv\")"
   ]
  },
  {
   "cell_type": "code",
   "execution_count": 1082,
   "id": "b02845ea",
   "metadata": {},
   "outputs": [
    {
     "data": {
      "text/html": [
       "<div>\n",
       "<style scoped>\n",
       "    .dataframe tbody tr th:only-of-type {\n",
       "        vertical-align: middle;\n",
       "    }\n",
       "\n",
       "    .dataframe tbody tr th {\n",
       "        vertical-align: top;\n",
       "    }\n",
       "\n",
       "    .dataframe thead th {\n",
       "        text-align: right;\n",
       "    }\n",
       "</style>\n",
       "<table border=\"1\" class=\"dataframe\">\n",
       "  <thead>\n",
       "    <tr style=\"text-align: right;\">\n",
       "      <th></th>\n",
       "      <th>Car_Name</th>\n",
       "      <th>Year</th>\n",
       "      <th>Selling_Price</th>\n",
       "      <th>Present_Price</th>\n",
       "      <th>Kms_Driven</th>\n",
       "      <th>Fuel_Type</th>\n",
       "      <th>Seller_Type</th>\n",
       "      <th>Transmission</th>\n",
       "      <th>Owner</th>\n",
       "    </tr>\n",
       "  </thead>\n",
       "  <tbody>\n",
       "    <tr>\n",
       "      <th>231</th>\n",
       "      <td>verna</td>\n",
       "      <td>2017</td>\n",
       "      <td>9.25</td>\n",
       "      <td>9.40</td>\n",
       "      <td>15001</td>\n",
       "      <td>Petrol</td>\n",
       "      <td>Dealer</td>\n",
       "      <td>Manual</td>\n",
       "      <td>0</td>\n",
       "    </tr>\n",
       "    <tr>\n",
       "      <th>174</th>\n",
       "      <td>Honda CB Unicorn</td>\n",
       "      <td>2015</td>\n",
       "      <td>0.38</td>\n",
       "      <td>0.72</td>\n",
       "      <td>38600</td>\n",
       "      <td>Petrol</td>\n",
       "      <td>Individual</td>\n",
       "      <td>Manual</td>\n",
       "      <td>0</td>\n",
       "    </tr>\n",
       "    <tr>\n",
       "      <th>232</th>\n",
       "      <td>elantra</td>\n",
       "      <td>2015</td>\n",
       "      <td>11.45</td>\n",
       "      <td>14.79</td>\n",
       "      <td>12900</td>\n",
       "      <td>Petrol</td>\n",
       "      <td>Dealer</td>\n",
       "      <td>Automatic</td>\n",
       "      <td>0</td>\n",
       "    </tr>\n",
       "    <tr>\n",
       "      <th>102</th>\n",
       "      <td>KTM RC200</td>\n",
       "      <td>2017</td>\n",
       "      <td>1.65</td>\n",
       "      <td>1.78</td>\n",
       "      <td>4000</td>\n",
       "      <td>Petrol</td>\n",
       "      <td>Individual</td>\n",
       "      <td>Manual</td>\n",
       "      <td>0</td>\n",
       "    </tr>\n",
       "    <tr>\n",
       "      <th>24</th>\n",
       "      <td>wagon r</td>\n",
       "      <td>2013</td>\n",
       "      <td>2.90</td>\n",
       "      <td>4.41</td>\n",
       "      <td>56879</td>\n",
       "      <td>Petrol</td>\n",
       "      <td>Dealer</td>\n",
       "      <td>Manual</td>\n",
       "      <td>0</td>\n",
       "    </tr>\n",
       "    <tr>\n",
       "      <th>49</th>\n",
       "      <td>ciaz</td>\n",
       "      <td>2017</td>\n",
       "      <td>7.75</td>\n",
       "      <td>9.29</td>\n",
       "      <td>37000</td>\n",
       "      <td>Petrol</td>\n",
       "      <td>Dealer</td>\n",
       "      <td>Automatic</td>\n",
       "      <td>0</td>\n",
       "    </tr>\n",
       "    <tr>\n",
       "      <th>147</th>\n",
       "      <td>Yamaha FZ S V 2.0</td>\n",
       "      <td>2015</td>\n",
       "      <td>0.55</td>\n",
       "      <td>0.84</td>\n",
       "      <td>58000</td>\n",
       "      <td>Petrol</td>\n",
       "      <td>Individual</td>\n",
       "      <td>Manual</td>\n",
       "      <td>0</td>\n",
       "    </tr>\n",
       "    <tr>\n",
       "      <th>65</th>\n",
       "      <td>etios liva</td>\n",
       "      <td>2014</td>\n",
       "      <td>4.75</td>\n",
       "      <td>6.95</td>\n",
       "      <td>45000</td>\n",
       "      <td>Diesel</td>\n",
       "      <td>Dealer</td>\n",
       "      <td>Manual</td>\n",
       "      <td>0</td>\n",
       "    </tr>\n",
       "    <tr>\n",
       "      <th>80</th>\n",
       "      <td>corolla altis</td>\n",
       "      <td>2016</td>\n",
       "      <td>14.73</td>\n",
       "      <td>14.89</td>\n",
       "      <td>23000</td>\n",
       "      <td>Diesel</td>\n",
       "      <td>Dealer</td>\n",
       "      <td>Manual</td>\n",
       "      <td>0</td>\n",
       "    </tr>\n",
       "    <tr>\n",
       "      <th>265</th>\n",
       "      <td>jazz</td>\n",
       "      <td>2017</td>\n",
       "      <td>6.50</td>\n",
       "      <td>8.70</td>\n",
       "      <td>21200</td>\n",
       "      <td>Petrol</td>\n",
       "      <td>Dealer</td>\n",
       "      <td>Manual</td>\n",
       "      <td>0</td>\n",
       "    </tr>\n",
       "  </tbody>\n",
       "</table>\n",
       "</div>"
      ],
      "text/plain": [
       "              Car_Name  Year  Selling_Price  Present_Price  Kms_Driven  \\\n",
       "231              verna  2017           9.25           9.40       15001   \n",
       "174   Honda CB Unicorn  2015           0.38           0.72       38600   \n",
       "232            elantra  2015          11.45          14.79       12900   \n",
       "102          KTM RC200  2017           1.65           1.78        4000   \n",
       "24             wagon r  2013           2.90           4.41       56879   \n",
       "49                ciaz  2017           7.75           9.29       37000   \n",
       "147  Yamaha FZ S V 2.0  2015           0.55           0.84       58000   \n",
       "65          etios liva  2014           4.75           6.95       45000   \n",
       "80       corolla altis  2016          14.73          14.89       23000   \n",
       "265               jazz  2017           6.50           8.70       21200   \n",
       "\n",
       "    Fuel_Type Seller_Type Transmission  Owner  \n",
       "231    Petrol      Dealer       Manual      0  \n",
       "174    Petrol  Individual       Manual      0  \n",
       "232    Petrol      Dealer    Automatic      0  \n",
       "102    Petrol  Individual       Manual      0  \n",
       "24     Petrol      Dealer       Manual      0  \n",
       "49     Petrol      Dealer    Automatic      0  \n",
       "147    Petrol  Individual       Manual      0  \n",
       "65     Diesel      Dealer       Manual      0  \n",
       "80     Diesel      Dealer       Manual      0  \n",
       "265    Petrol      Dealer       Manual      0  "
      ]
     },
     "execution_count": 1082,
     "metadata": {},
     "output_type": "execute_result"
    }
   ],
   "source": [
    "#lets check some random records in data\n",
    "data.sample(10)"
   ]
  },
  {
   "cell_type": "code",
   "execution_count": 1083,
   "id": "3f0e80ee",
   "metadata": {},
   "outputs": [
    {
     "data": {
      "text/plain": [
       "(301, 9)"
      ]
     },
     "execution_count": 1083,
     "metadata": {},
     "output_type": "execute_result"
    }
   ],
   "source": [
    "#Lets check shape of data\n",
    "data.shape"
   ]
  },
  {
   "cell_type": "code",
   "execution_count": 1084,
   "id": "34ecd340",
   "metadata": {
    "scrolled": true
   },
   "outputs": [
    {
     "name": "stdout",
     "output_type": "stream",
     "text": [
      "<class 'pandas.core.frame.DataFrame'>\n",
      "RangeIndex: 301 entries, 0 to 300\n",
      "Data columns (total 9 columns):\n",
      " #   Column         Non-Null Count  Dtype  \n",
      "---  ------         --------------  -----  \n",
      " 0   Car_Name       301 non-null    object \n",
      " 1   Year           301 non-null    int64  \n",
      " 2   Selling_Price  301 non-null    float64\n",
      " 3   Present_Price  301 non-null    float64\n",
      " 4   Kms_Driven     301 non-null    int64  \n",
      " 5   Fuel_Type      301 non-null    object \n",
      " 6   Seller_Type    301 non-null    object \n",
      " 7   Transmission   301 non-null    object \n",
      " 8   Owner          301 non-null    int64  \n",
      "dtypes: float64(2), int64(3), object(4)\n",
      "memory usage: 21.3+ KB\n"
     ]
    }
   ],
   "source": [
    " #lets check data types of all columns\n",
    "data.info()\n"
   ]
  },
  {
   "cell_type": "code",
   "execution_count": 1085,
   "id": "eebfe2b9",
   "metadata": {},
   "outputs": [
    {
     "data": {
      "text/plain": [
       "Car_Name         0\n",
       "Year             0\n",
       "Selling_Price    0\n",
       "Present_Price    0\n",
       "Kms_Driven       0\n",
       "Fuel_Type        0\n",
       "Seller_Type      0\n",
       "Transmission     0\n",
       "Owner            0\n",
       "dtype: int64"
      ]
     },
     "execution_count": 1085,
     "metadata": {},
     "output_type": "execute_result"
    }
   ],
   "source": [
    "#Lets check whether there are any missing values values or not \n",
    "data.isnull().sum()"
   ]
  },
  {
   "cell_type": "code",
   "execution_count": 1086,
   "id": "f4bab105",
   "metadata": {},
   "outputs": [
    {
     "data": {
      "text/plain": [
       "Car_Name         False\n",
       "Year             False\n",
       "Selling_Price    False\n",
       "Present_Price    False\n",
       "Kms_Driven       False\n",
       "Fuel_Type         True\n",
       "Seller_Type       True\n",
       "Transmission      True\n",
       "Owner             True\n",
       "dtype: bool"
      ]
     },
     "execution_count": 1086,
     "metadata": {},
     "output_type": "execute_result"
    }
   ],
   "source": [
    "#Lets have look at each column how many unique values they have\n",
    "data.nunique()<10"
   ]
  },
  {
   "cell_type": "markdown",
   "id": "e5c75f67",
   "metadata": {},
   "source": [
    "So from above we can clearly see that Fuel_Type, Seller_type, Transmission and Owner are categorical values"
   ]
  },
  {
   "cell_type": "code",
   "execution_count": 1087,
   "id": "9d81cbf0",
   "metadata": {},
   "outputs": [
    {
     "name": "stdout",
     "output_type": "stream",
     "text": [
      "Fuel_Type ['Petrol' 'Diesel' 'CNG']\n",
      "Seller_Type ['Dealer' 'Individual']\n",
      "Transmission ['Manual' 'Automatic']\n",
      "Owner [0 1 3]\n"
     ]
    }
   ],
   "source": [
    "#Lets check what unique values all columns have\n",
    "unique_values = [features for features in data.columns if data[features].nunique()<10]\n",
    "for feature in unique_values:\n",
    "    print(feature, data[feature].unique())"
   ]
  },
  {
   "cell_type": "markdown",
   "id": "1cd650af",
   "metadata": {},
   "source": [
    "Lets store our numerical, categorical and temporal variables separetly"
   ]
  },
  {
   "cell_type": "code",
   "execution_count": null,
   "id": "ad294be6",
   "metadata": {},
   "outputs": [],
   "source": [
    "\n"
   ]
  },
  {
   "cell_type": "code",
   "execution_count": 1088,
   "id": "cb61efab",
   "metadata": {},
   "outputs": [],
   "source": [
    "#temporal features are used for storing the year type or datatime type of data\n",
    "temporal_feature = [feature for feature in data.columns if 'Year' in feature]"
   ]
  },
  {
   "cell_type": "code",
   "execution_count": 1089,
   "id": "6eafe0ba",
   "metadata": {},
   "outputs": [],
   "source": [
    "#numerical features to store numerical data features only\n",
    "numerical_features =[feature for feature in data.columns if data[feature].dtypes!='O' and feature not in temporal_feature]"
   ]
  },
  {
   "cell_type": "code",
   "execution_count": 1090,
   "id": "726fe7b5",
   "metadata": {},
   "outputs": [],
   "source": [
    "#categorical features are used for storing categorical data\n",
    "categorical_features=[feature for feature in data.columns if feature not in temporal_feature and data[feature].nunique()<20]"
   ]
  },
  {
   "cell_type": "markdown",
   "id": "88e3aca6",
   "metadata": {},
   "source": [
    "# DATA VISUALISATION FOR ANLYSIS AND INSIGHTS"
   ]
  },
  {
   "cell_type": "code",
   "execution_count": 1091,
   "id": "4a6c938c",
   "metadata": {},
   "outputs": [
    {
     "data": {
      "image/png": "[encoded data removed]",
      "text/plain": [
       "<Figure size 432x288 with 1 Axes>"
      ]
     },
     "metadata": {
      "needs_background": "light"
     },
     "output_type": "display_data"
    },
    {
     "data": {
      "image/png": "[encoded data removed]",
      "text/plain": [
       "<Figure size 432x288 with 1 Axes>"
      ]
     },
     "metadata": {
      "needs_background": "light"
     },
     "output_type": "display_data"
    },
    {
     "data": {
      "image/png": "[encoded data removed]",
      "text/plain": [
       "<Figure size 432x288 with 1 Axes>"
      ]
     },
     "metadata": {
      "needs_background": "light"
     },
     "output_type": "display_data"
    },
    {
     "data": {
      "image/png": "[encoded data removed]",
      "text/plain": [
       "<Figure size 432x288 with 1 Axes>"
      ]
     },
     "metadata": {
      "needs_background": "light"
     },
     "output_type": "display_data"
    }
   ],
   "source": [
    "for feature in numerical_features:\n",
    "    data1=data.copy()\n",
    "    data1[feature].hist(bins=10)\n",
    "    plt.xlabel(feature)\n",
    "    plt.ylabel(\"Count\")\n",
    "    plt.title(feature)\n",
    "    plt.show()"
   ]
  },
  {
   "cell_type": "markdown",
   "id": "3b253232",
   "metadata": {},
   "source": [
    "Both Selling_Price and Present_Price are skewed so we need to have some transformation \n",
    "1. We are using logarithmic transformation to tackle the skewness of the data"
   ]
  },
  {
   "cell_type": "code",
   "execution_count": 1092,
   "id": "876607c3",
   "metadata": {},
   "outputs": [
    {
     "data": {
      "text/plain": [
       "(array([ 5., 17., 34., 23., 26., 40., 82., 48., 17.,  9.]),\n",
       " array([-2.30258509, -1.71679178, -1.13099846, -0.54520515,  0.04058817,\n",
       "         0.62638148,  1.2121748 ,  1.79796812,  2.38376143,  2.96955475,\n",
       "         3.55534806]),\n",
       " <BarContainer object of 10 artists>)"
      ]
     },
     "execution_count": 1092,
     "metadata": {},
     "output_type": "execute_result"
    },
    {
     "data": {
      "image/png": "[encoded data removed]",
      "text/plain": [
       "<Figure size 432x288 with 1 Axes>"
      ]
     },
     "metadata": {
      "needs_background": "light"
     },
     "output_type": "display_data"
    }
   ],
   "source": [
    "plt.hist(np.log(data['Selling_Price']))"
   ]
  },
  {
   "cell_type": "code",
   "execution_count": 1093,
   "id": "15b4a974",
   "metadata": {},
   "outputs": [
    {
     "data": {
      "text/plain": [
       "(array([20., 51., 21., 10., 26., 95., 51., 17.,  9.,  1.]),\n",
       " array([-1.13943428, -0.57266194, -0.0058896 ,  0.56088274,  1.12765509,\n",
       "         1.69442743,  2.26119977,  2.82797211,  3.39474446,  3.9615168 ,\n",
       "         4.52828914]),\n",
       " <BarContainer object of 10 artists>)"
      ]
     },
     "execution_count": 1093,
     "metadata": {},
     "output_type": "execute_result"
    },
    {
     "data": {
      "image/png": "[encoded data removed]",
      "text/plain": [
       "<Figure size 432x288 with 1 Axes>"
      ]
     },
     "metadata": {
      "needs_background": "light"
     },
     "output_type": "display_data"
    }
   ],
   "source": [
    "plt.hist(np.log(data['Present_Price']))"
   ]
  },
  {
   "cell_type": "code",
   "execution_count": 1094,
   "id": "aa9b1aa2",
   "metadata": {},
   "outputs": [
    {
     "data": {
      "image/png": "[encoded data removed]",
      "text/plain": [
       "<Figure size 432x288 with 1 Axes>"
      ]
     },
     "metadata": {
      "needs_background": "light"
     },
     "output_type": "display_data"
    },
    {
     "data": {
      "image/png": "[encoded data removed]",
      "text/plain": [
       "<Figure size 432x288 with 1 Axes>"
      ]
     },
     "metadata": {
      "needs_background": "light"
     },
     "output_type": "display_data"
    },
    {
     "data": {
      "image/png": "[encoded data removed]",
      "text/plain": [
       "<Figure size 432x288 with 1 Axes>"
      ]
     },
     "metadata": {
      "needs_background": "light"
     },
     "output_type": "display_data"
    }
   ],
   "source": [
    "#We will use logarthmic transformation\n",
    "for feature in numerical_features:\n",
    "    data1 = data.copy()\n",
    "    if 0 in data1[feature].unique():\n",
    "        pass\n",
    "    else:\n",
    "        data1[feature] = np.log(data1[feature])\n",
    "        \n",
    "        plt.scatter(data1[feature],data1['Selling_Price']) \n",
    "        plt.xlabel(feature)\n",
    "        plt.ylabel('Selling Price')\n",
    "        plt.show()\n"
   ]
  },
  {
   "cell_type": "markdown",
   "id": "3994ae2c",
   "metadata": {},
   "source": [
    "Here with Selling_Price v/s Present_Price we can find that it is have exponential relationship \n",
    "1. As for higher present_price, selling_price is also much higher"
   ]
  },
  {
   "cell_type": "code",
   "execution_count": 1095,
   "id": "e99b637f",
   "metadata": {},
   "outputs": [
    {
     "data": {
      "image/png": "[encoded data removed]",
      "text/plain": [
       "<Figure size 432x288 with 1 Axes>"
      ]
     },
     "metadata": {
      "needs_background": "light"
     },
     "output_type": "display_data"
    },
    {
     "data": {
      "image/png": "[encoded data removed]",
      "text/plain": [
       "<Figure size 432x288 with 1 Axes>"
      ]
     },
     "metadata": {
      "needs_background": "light"
     },
     "output_type": "display_data"
    },
    {
     "data": {
      "image/png": "[encoded data removed]",
      "text/plain": [
       "<Figure size 432x288 with 1 Axes>"
      ]
     },
     "metadata": {
      "needs_background": "light"
     },
     "output_type": "display_data"
    },
    {
     "data": {
      "image/png": "[encoded data removed]",
      "text/plain": [
       "<Figure size 432x288 with 1 Axes>"
      ]
     },
     "metadata": {
      "needs_background": "light"
     },
     "output_type": "display_data"
    }
   ],
   "source": [
    "#Lets visualise the categorical features with dependent variable i.e Selling_Price\n",
    "for feature in categorical_features:\n",
    "    data1 =data.copy()\n",
    "    data1.groupby(feature)['Selling_Price'].median().plot.bar()\n",
    "    plt.xlabel(feature)\n",
    "    plt.ylabel('Selling Price')\n",
    "    plt.title(feature)\n",
    "    plt.show()"
   ]
  },
  {
   "cell_type": "markdown",
   "id": "88abf572",
   "metadata": {},
   "source": [
    "Insights\n",
    "1. We can clearly see that price of diesel cars is higher as compare to other two types.\n",
    "2. In 2nd chart we can see that price offered by individual is low as compare to the Dealer\n",
    "3. In 3rd it also ovious that price for Automatic transmission will be higher\n",
    "4. Owner type 0 are having higher selling_price as compare to others"
   ]
  },
  {
   "cell_type": "markdown",
   "id": "3e982c03",
   "metadata": {},
   "source": [
    "# OUTLIERS"
   ]
  },
  {
   "cell_type": "code",
   "execution_count": 1096,
   "id": "7f03d9f4",
   "metadata": {},
   "outputs": [
    {
     "data": {
      "image/png": "[encoded data removed]",
      "text/plain": [
       "<Figure size 432x288 with 1 Axes>"
      ]
     },
     "metadata": {
      "needs_background": "light"
     },
     "output_type": "display_data"
    },
    {
     "data": {
      "image/png": "[encoded data removed]",
      "text/plain": [
       "<Figure size 432x288 with 1 Axes>"
      ]
     },
     "metadata": {
      "needs_background": "light"
     },
     "output_type": "display_data"
    },
    {
     "data": {
      "image/png": "[encoded data removed]",
      "text/plain": [
       "<Figure size 432x288 with 1 Axes>"
      ]
     },
     "metadata": {
      "needs_background": "light"
     },
     "output_type": "display_data"
    }
   ],
   "source": [
    "for feature in numerical_features:\n",
    "    data1=data.copy()\n",
    "    if 0 in data1[feature].unique():\n",
    "        pass\n",
    "    else:\n",
    "        data1[feature] = np.log(data[feature])\n",
    "        data.boxplot(column=feature)\n",
    "        plt.ylabel(feature)\n",
    "        plt.title(feature)\n",
    "        plt.show()"
   ]
  },
  {
   "cell_type": "markdown",
   "id": "f42ac7e2",
   "metadata": {},
   "source": [
    "Here we can clearly see that there are few outliers in Selling_Price, Present_Price and Kms_driven \n"
   ]
  },
  {
   "cell_type": "markdown",
   "id": "50a31363",
   "metadata": {},
   "source": [
    "# HANDLING THE OUTLIERS"
   ]
  },
  {
   "cell_type": "code",
   "execution_count": 1097,
   "id": "4c8e3d08",
   "metadata": {},
   "outputs": [],
   "source": [
    "def outliers(df, feature):\n",
    "    Q1= df[feature].quantile(0.25)\n",
    "    Q3 = df[feature].quantile(0.75)\n",
    "    IQR = Q3 - Q1\n",
    "    upper_fence = Q3 + 1.5 * IQR\n",
    "    lower_fence = Q1 - 1.5 * IQR\n",
    "    return upper_fence, lower_fence\n",
    "               "
   ]
  },
  {
   "cell_type": "code",
   "execution_count": 1098,
   "id": "44a19a07",
   "metadata": {},
   "outputs": [
    {
     "name": "stdout",
     "output_type": "stream",
     "text": [
      "Upper whisker:  13.649999999999999\n",
      "Lower Whisker:  -6.749999999999999\n"
     ]
    }
   ],
   "source": [
    "#Lets check for 'Selling_Price'\n",
    "upper, lower = outliers(data, 'Selling_Price')\n",
    "print(\"Upper whisker: \", upper)\n",
    "print(\"Lower Whisker: \", lower)\n",
    "\n",
    "data = data[(data['Selling_Price']<upper) & data['Selling_Price']>lower]\n",
    "#dropping the outlier\n",
    "\n",
    "\n",
    "data.drop(data[data['Selling_Price']>upper].index,inplace=True)\n",
    "\n"
   ]
  },
  {
   "cell_type": "code",
   "execution_count": 1099,
   "id": "9f6363f2",
   "metadata": {},
   "outputs": [
    {
     "name": "stdout",
     "output_type": "stream",
     "text": [
      "Upper whisker:  21.947499999999998\n",
      "Lower Whisker:  -11.5125\n"
     ]
    }
   ],
   "source": [
    "#Lets check for 'Present_Price'\n",
    "upper, lower = outliers(data, 'Present_Price')\n",
    "print(\"Upper whisker: \", upper)\n",
    "print(\"Lower Whisker: \", lower)\n",
    "\n",
    "data = data[(data['Present_Price']>lower) & data['Present_Price']<upper]\n",
    "\n",
    "data.drop(data[data['Present_Price']>upper].index, inplace=True)\n"
   ]
  },
  {
   "cell_type": "code",
   "execution_count": 1100,
   "id": "24effb95",
   "metadata": {},
   "outputs": [
    {
     "name": "stdout",
     "output_type": "stream",
     "text": [
      "Upper whisker:  94265.0\n",
      "Lower Whisker:  -32559.0\n"
     ]
    }
   ],
   "source": [
    "#Lets check for 'Kms_Driven'\n",
    "upper, lower = outliers(data, 'Kms_Driven')\n",
    "print(\"Upper whisker: \", upper)\n",
    "print(\"Lower Whisker: \", lower)\n",
    "\n",
    "data = data[(data['Kms_Driven']>lower) & data['Kms_Driven']<upper]\n",
    "data.drop(data[data['Kms_Driven']>upper].index, inplace=True)"
   ]
  },
  {
   "cell_type": "markdown",
   "id": "f31cd200",
   "metadata": {},
   "source": [
    "# BOX PLOT AFTER HANDLING OUTLIERS"
   ]
  },
  {
   "cell_type": "code",
   "execution_count": 1101,
   "id": "5f561802",
   "metadata": {},
   "outputs": [
    {
     "data": {
      "image/png": "[encoded data removed]",
      "text/plain": [
       "<Figure size 432x288 with 1 Axes>"
      ]
     },
     "metadata": {
      "needs_background": "light"
     },
     "output_type": "display_data"
    },
    {
     "data": {
      "image/png": "[encoded data removed]",
      "text/plain": [
       "<Figure size 432x288 with 1 Axes>"
      ]
     },
     "metadata": {
      "needs_background": "light"
     },
     "output_type": "display_data"
    },
    {
     "data": {
      "image/png": "[encoded data removed]",
      "text/plain": [
       "<Figure size 432x288 with 1 Axes>"
      ]
     },
     "metadata": {
      "needs_background": "light"
     },
     "output_type": "display_data"
    }
   ],
   "source": [
    "#Now lets check outliers whether they got removed or not\n",
    "for feature in numerical_features:\n",
    "    data1=data.copy()\n",
    "    if 0 in data1[feature].unique():\n",
    "        pass\n",
    "    else:\n",
    "        data1[feature] = np.log(data[feature])\n",
    "        data.boxplot(column=feature)\n",
    "        plt.ylabel(feature)\n",
    "        plt.title(feature)\n",
    "        plt.show()"
   ]
  },
  {
   "cell_type": "code",
   "execution_count": 1102,
   "id": "4fbf3055",
   "metadata": {},
   "outputs": [],
   "source": [
    "#lets save the above cleaned data\n",
    "data.to_csv('CleanedCarData.csv', sep='\\t', index=False,header=True)"
   ]
  },
  {
   "cell_type": "markdown",
   "id": "69964c82",
   "metadata": {},
   "source": [
    "# ENCODING THE CATEGORICAL FEATURES"
   ]
  },
  {
   "cell_type": "code",
   "execution_count": 1103,
   "id": "c8519d32",
   "metadata": {},
   "outputs": [],
   "source": [
    "#encoding Fuel_Type colmn\n",
    "data.replace({'Fuel_Type':{'Petrol':0, 'Diesel':1,'CNG':2}},inplace=True)\n",
    "\n",
    "#encoding Seller_Type column\n",
    "data.replace({'Seller_Type':{'Dealer':0,'Individual':1}},inplace=True)\n",
    "\n",
    "#encoding Transmission column\n",
    "data.replace({'Transmission':{'Manual':0,'Automatic':1}},inplace=True)\n"
   ]
  },
  {
   "cell_type": "code",
   "execution_count": 1104,
   "id": "addce2f9",
   "metadata": {},
   "outputs": [
    {
     "data": {
      "text/html": [
       "<div>\n",
       "<style scoped>\n",
       "    .dataframe tbody tr th:only-of-type {\n",
       "        vertical-align: middle;\n",
       "    }\n",
       "\n",
       "    .dataframe tbody tr th {\n",
       "        vertical-align: top;\n",
       "    }\n",
       "\n",
       "    .dataframe thead th {\n",
       "        text-align: right;\n",
       "    }\n",
       "</style>\n",
       "<table border=\"1\" class=\"dataframe\">\n",
       "  <thead>\n",
       "    <tr style=\"text-align: right;\">\n",
       "      <th></th>\n",
       "      <th>Car_Name</th>\n",
       "      <th>Year</th>\n",
       "      <th>Selling_Price</th>\n",
       "      <th>Present_Price</th>\n",
       "      <th>Kms_Driven</th>\n",
       "      <th>Fuel_Type</th>\n",
       "      <th>Seller_Type</th>\n",
       "      <th>Transmission</th>\n",
       "      <th>Owner</th>\n",
       "    </tr>\n",
       "  </thead>\n",
       "  <tbody>\n",
       "    <tr>\n",
       "      <th>0</th>\n",
       "      <td>ritz</td>\n",
       "      <td>2014</td>\n",
       "      <td>3.35</td>\n",
       "      <td>5.59</td>\n",
       "      <td>27000</td>\n",
       "      <td>0</td>\n",
       "      <td>0</td>\n",
       "      <td>0</td>\n",
       "      <td>0</td>\n",
       "    </tr>\n",
       "    <tr>\n",
       "      <th>1</th>\n",
       "      <td>sx4</td>\n",
       "      <td>2013</td>\n",
       "      <td>4.75</td>\n",
       "      <td>9.54</td>\n",
       "      <td>43000</td>\n",
       "      <td>1</td>\n",
       "      <td>0</td>\n",
       "      <td>0</td>\n",
       "      <td>0</td>\n",
       "    </tr>\n",
       "    <tr>\n",
       "      <th>2</th>\n",
       "      <td>ciaz</td>\n",
       "      <td>2017</td>\n",
       "      <td>7.25</td>\n",
       "      <td>9.85</td>\n",
       "      <td>6900</td>\n",
       "      <td>0</td>\n",
       "      <td>0</td>\n",
       "      <td>0</td>\n",
       "      <td>0</td>\n",
       "    </tr>\n",
       "    <tr>\n",
       "      <th>3</th>\n",
       "      <td>wagon r</td>\n",
       "      <td>2011</td>\n",
       "      <td>2.85</td>\n",
       "      <td>4.15</td>\n",
       "      <td>5200</td>\n",
       "      <td>0</td>\n",
       "      <td>0</td>\n",
       "      <td>0</td>\n",
       "      <td>0</td>\n",
       "    </tr>\n",
       "    <tr>\n",
       "      <th>4</th>\n",
       "      <td>swift</td>\n",
       "      <td>2014</td>\n",
       "      <td>4.60</td>\n",
       "      <td>6.87</td>\n",
       "      <td>42450</td>\n",
       "      <td>1</td>\n",
       "      <td>0</td>\n",
       "      <td>0</td>\n",
       "      <td>0</td>\n",
       "    </tr>\n",
       "  </tbody>\n",
       "</table>\n",
       "</div>"
      ],
      "text/plain": [
       "  Car_Name  Year  Selling_Price  Present_Price  Kms_Driven  Fuel_Type  \\\n",
       "0     ritz  2014           3.35           5.59       27000          0   \n",
       "1      sx4  2013           4.75           9.54       43000          1   \n",
       "2     ciaz  2017           7.25           9.85        6900          0   \n",
       "3  wagon r  2011           2.85           4.15        5200          0   \n",
       "4    swift  2014           4.60           6.87       42450          1   \n",
       "\n",
       "   Seller_Type  Transmission  Owner  \n",
       "0            0             0      0  \n",
       "1            0             0      0  \n",
       "2            0             0      0  \n",
       "3            0             0      0  \n",
       "4            0             0      0  "
      ]
     },
     "execution_count": 1104,
     "metadata": {},
     "output_type": "execute_result"
    }
   ],
   "source": [
    "data.head()"
   ]
  },
  {
   "cell_type": "markdown",
   "id": "72cdb0a7",
   "metadata": {},
   "source": [
    "# TRAIN_TEST SPLIT"
   ]
  },
  {
   "cell_type": "code",
   "execution_count": 1105,
   "id": "51aeeb06",
   "metadata": {},
   "outputs": [],
   "source": [
    "#First separating the indepedent and depedent variables\n",
    "\n",
    "#dependent variable\n",
    "X=data.drop(['Car_Name','Selling_Price'], axis=1)\n",
    "Y=data['Selling_Price']"
   ]
  },
  {
   "cell_type": "code",
   "execution_count": 1106,
   "id": "96e57f99",
   "metadata": {},
   "outputs": [
    {
     "data": {
      "text/html": [
       "<div>\n",
       "<style scoped>\n",
       "    .dataframe tbody tr th:only-of-type {\n",
       "        vertical-align: middle;\n",
       "    }\n",
       "\n",
       "    .dataframe tbody tr th {\n",
       "        vertical-align: top;\n",
       "    }\n",
       "\n",
       "    .dataframe thead th {\n",
       "        text-align: right;\n",
       "    }\n",
       "</style>\n",
       "<table border=\"1\" class=\"dataframe\">\n",
       "  <thead>\n",
       "    <tr style=\"text-align: right;\">\n",
       "      <th></th>\n",
       "      <th>Year</th>\n",
       "      <th>Present_Price</th>\n",
       "      <th>Kms_Driven</th>\n",
       "      <th>Fuel_Type</th>\n",
       "      <th>Seller_Type</th>\n",
       "      <th>Transmission</th>\n",
       "      <th>Owner</th>\n",
       "    </tr>\n",
       "  </thead>\n",
       "  <tbody>\n",
       "    <tr>\n",
       "      <th>0</th>\n",
       "      <td>2014</td>\n",
       "      <td>5.59</td>\n",
       "      <td>27000</td>\n",
       "      <td>0</td>\n",
       "      <td>0</td>\n",
       "      <td>0</td>\n",
       "      <td>0</td>\n",
       "    </tr>\n",
       "    <tr>\n",
       "      <th>1</th>\n",
       "      <td>2013</td>\n",
       "      <td>9.54</td>\n",
       "      <td>43000</td>\n",
       "      <td>1</td>\n",
       "      <td>0</td>\n",
       "      <td>0</td>\n",
       "      <td>0</td>\n",
       "    </tr>\n",
       "    <tr>\n",
       "      <th>2</th>\n",
       "      <td>2017</td>\n",
       "      <td>9.85</td>\n",
       "      <td>6900</td>\n",
       "      <td>0</td>\n",
       "      <td>0</td>\n",
       "      <td>0</td>\n",
       "      <td>0</td>\n",
       "    </tr>\n",
       "    <tr>\n",
       "      <th>3</th>\n",
       "      <td>2011</td>\n",
       "      <td>4.15</td>\n",
       "      <td>5200</td>\n",
       "      <td>0</td>\n",
       "      <td>0</td>\n",
       "      <td>0</td>\n",
       "      <td>0</td>\n",
       "    </tr>\n",
       "    <tr>\n",
       "      <th>4</th>\n",
       "      <td>2014</td>\n",
       "      <td>6.87</td>\n",
       "      <td>42450</td>\n",
       "      <td>1</td>\n",
       "      <td>0</td>\n",
       "      <td>0</td>\n",
       "      <td>0</td>\n",
       "    </tr>\n",
       "  </tbody>\n",
       "</table>\n",
       "</div>"
      ],
      "text/plain": [
       "   Year  Present_Price  Kms_Driven  Fuel_Type  Seller_Type  Transmission  \\\n",
       "0  2014           5.59       27000          0            0             0   \n",
       "1  2013           9.54       43000          1            0             0   \n",
       "2  2017           9.85        6900          0            0             0   \n",
       "3  2011           4.15        5200          0            0             0   \n",
       "4  2014           6.87       42450          1            0             0   \n",
       "\n",
       "   Owner  \n",
       "0      0  \n",
       "1      0  \n",
       "2      0  \n",
       "3      0  \n",
       "4      0  "
      ]
     },
     "execution_count": 1106,
     "metadata": {},
     "output_type": "execute_result"
    }
   ],
   "source": [
    "X.head()"
   ]
  },
  {
   "cell_type": "code",
   "execution_count": 1107,
   "id": "c3062c31",
   "metadata": {},
   "outputs": [
    {
     "data": {
      "text/plain": [
       "0    3.35\n",
       "1    4.75\n",
       "2    7.25\n",
       "3    2.85\n",
       "4    4.60\n",
       "Name: Selling_Price, dtype: float64"
      ]
     },
     "execution_count": 1107,
     "metadata": {},
     "output_type": "execute_result"
    }
   ],
   "source": [
    "Y.head()"
   ]
  },
  {
   "cell_type": "code",
   "execution_count": 1108,
   "id": "39758d0b",
   "metadata": {},
   "outputs": [],
   "source": [
    "#Now splitting  training and testing data\n",
    "from sklearn.model_selection import train_test_split\n",
    "X_train, X_test, Y_train, Y_test = train_test_split(X, Y, test_size = 0.1, random_state =3)\n",
    "    "
   ]
  },
  {
   "cell_type": "code",
   "execution_count": 1109,
   "id": "06a51c62",
   "metadata": {},
   "outputs": [
    {
     "data": {
      "text/plain": [
       "(248, 7)"
      ]
     },
     "execution_count": 1109,
     "metadata": {},
     "output_type": "execute_result"
    }
   ],
   "source": [
    "X_train.shape"
   ]
  },
  {
   "cell_type": "code",
   "execution_count": 1110,
   "id": "ea7efff5",
   "metadata": {},
   "outputs": [
    {
     "data": {
      "text/plain": [
       "(248,)"
      ]
     },
     "execution_count": 1110,
     "metadata": {},
     "output_type": "execute_result"
    }
   ],
   "source": [
    "Y_train.shape"
   ]
  },
  {
   "cell_type": "code",
   "execution_count": 1111,
   "id": "27f85ec8",
   "metadata": {},
   "outputs": [
    {
     "data": {
      "text/plain": [
       "(28, 7)"
      ]
     },
     "execution_count": 1111,
     "metadata": {},
     "output_type": "execute_result"
    }
   ],
   "source": [
    "X_test.shape"
   ]
  },
  {
   "cell_type": "code",
   "execution_count": 1112,
   "id": "2a538154",
   "metadata": {},
   "outputs": [
    {
     "data": {
      "text/plain": [
       "(28,)"
      ]
     },
     "execution_count": 1112,
     "metadata": {},
     "output_type": "execute_result"
    }
   ],
   "source": [
    "Y_test.shape"
   ]
  },
  {
   "cell_type": "markdown",
   "id": "9bf21f65",
   "metadata": {},
   "source": [
    "# MODEL TRAINING WITH LINEAR REGRESSION "
   ]
  },
  {
   "cell_type": "code",
   "execution_count": 1113,
   "id": "3c8bd271",
   "metadata": {},
   "outputs": [],
   "source": [
    "from sklearn.linear_model import LinearRegression\n",
    "\n",
    "from sklearn import metrics"
   ]
  },
  {
   "cell_type": "code",
   "execution_count": 1114,
   "id": "ad4e63ff",
   "metadata": {},
   "outputs": [],
   "source": [
    "linear_reg_model_train = LinearRegression()"
   ]
  },
  {
   "cell_type": "code",
   "execution_count": 1115,
   "id": "32471ebf",
   "metadata": {},
   "outputs": [
    {
     "data": {
      "text/plain": [
       "LinearRegression()"
      ]
     },
     "execution_count": 1115,
     "metadata": {},
     "output_type": "execute_result"
    }
   ],
   "source": [
    "#train the model\n",
    "linear_reg_model_train.fit(X_train, Y_train)"
   ]
  },
  {
   "cell_type": "code",
   "execution_count": 1116,
   "id": "f7dd983a",
   "metadata": {},
   "outputs": [],
   "source": [
    "## MODEL EVALUATION\n",
    "#prediction \n",
    "linear_reg_train_predict = linear_reg_model_train.predict(X_train)"
   ]
  },
  {
   "cell_type": "code",
   "execution_count": 1117,
   "id": "6d624993",
   "metadata": {},
   "outputs": [
    {
     "name": "stdout",
     "output_type": "stream",
     "text": [
      "R squared error :  0.8748300088193984\n"
     ]
    }
   ],
   "source": [
    "#R squared error for evaluation\n",
    "linear_train_score = metrics.r2_score(Y_train,linear_reg_train_predict)\n",
    "\n",
    "print(\"R squared error : \", linear_train_score)"
   ]
  },
  {
   "cell_type": "code",
   "execution_count": 1118,
   "id": "e9b53dfe",
   "metadata": {},
   "outputs": [
    {
     "data": {
      "image/png": "[encoded data removed]",
      "text/plain": [
       "<Figure size 432x288 with 1 Axes>"
      ]
     },
     "metadata": {
      "needs_background": "light"
     },
     "output_type": "display_data"
    }
   ],
   "source": [
    "#Lets visualise the actual and predicted selling price\n",
    "plt.scatter(Y_train,linear_reg_train_predict)\n",
    "plt.plot(range(12), range(12))\n",
    "plt.xlabel(\"Actual Price\")\n",
    "plt.ylabel(\"Predicted Price\")\n",
    "plt.title(\"Actual Price v/s Prdicted Price\")\n",
    "plt.show()"
   ]
  },
  {
   "cell_type": "code",
   "execution_count": 1119,
   "id": "861b2d64",
   "metadata": {},
   "outputs": [],
   "source": [
    "#On lets do same for test\n",
    "linear_reg_model_test = LinearRegression()"
   ]
  },
  {
   "cell_type": "code",
   "execution_count": 1120,
   "id": "26178262",
   "metadata": {},
   "outputs": [
    {
     "data": {
      "text/plain": [
       "LinearRegression()"
      ]
     },
     "execution_count": 1120,
     "metadata": {},
     "output_type": "execute_result"
    }
   ],
   "source": [
    "linear_reg_model_test.fit(X_test,Y_test)"
   ]
  },
  {
   "cell_type": "code",
   "execution_count": 1121,
   "id": "44fccf91",
   "metadata": {},
   "outputs": [],
   "source": [
    "linear_reg_test_predict= linear_reg_model_test.predict(X_test)"
   ]
  },
  {
   "cell_type": "code",
   "execution_count": 1122,
   "id": "47766115",
   "metadata": {},
   "outputs": [
    {
     "name": "stdout",
     "output_type": "stream",
     "text": [
      "R squared error :  0.8697799232046343\n"
     ]
    }
   ],
   "source": [
    "#R squared error for evaluation\n",
    "linear_test_score = metrics.r2_score(Y_test,linear_reg_test_predict)\n",
    "\n",
    "print(\"R squared error : \", linear_test_score)"
   ]
  },
  {
   "cell_type": "code",
   "execution_count": 1123,
   "id": "0a6ca4ec",
   "metadata": {
    "scrolled": true
   },
   "outputs": [
    {
     "data": {
      "image/png": "[encoded data removed]",
      "text/plain": [
       "<Figure size 432x288 with 1 Axes>"
      ]
     },
     "metadata": {
      "needs_background": "light"
     },
     "output_type": "display_data"
    }
   ],
   "source": [
    "#Lets visualise the actual and predicted selling price\n",
    "plt.scatter(Y_test,linear_reg_test_predict)\n",
    "plt.plot(range(12), range(12))\n",
    "plt.xlabel(\"Actual Price\")\n",
    "plt.ylabel(\"Predicted Price\")\n",
    "plt.title(\"Actual Price v/s Prdicted Price\")\n",
    "plt.show()"
   ]
  },
  {
   "cell_type": "markdown",
   "id": "edbf6e59",
   "metadata": {},
   "source": [
    "# MODEL TRAINING WITH LASSO REGRESSION "
   ]
  },
  {
   "cell_type": "code",
   "execution_count": 1124,
   "id": "9c5aaa1a",
   "metadata": {},
   "outputs": [],
   "source": [
    "from sklearn.linear_model import Lasso"
   ]
  },
  {
   "cell_type": "code",
   "execution_count": 1125,
   "id": "08755472",
   "metadata": {},
   "outputs": [],
   "source": [
    "lasso_reg_model_train = Lasso()"
   ]
  },
  {
   "cell_type": "code",
   "execution_count": 1126,
   "id": "d8c718e8",
   "metadata": {},
   "outputs": [
    {
     "data": {
      "text/plain": [
       "Lasso()"
      ]
     },
     "execution_count": 1126,
     "metadata": {},
     "output_type": "execute_result"
    }
   ],
   "source": [
    "#train the model\n",
    "lasso_reg_model_train.fit(X_train, Y_train)"
   ]
  },
  {
   "cell_type": "code",
   "execution_count": 1127,
   "id": "3736b3d6",
   "metadata": {},
   "outputs": [],
   "source": [
    "##Model Prediction\n",
    "#prediction \n",
    "lasso_reg_train_predict = lasso_reg_model_train.predict(X_train)"
   ]
  },
  {
   "cell_type": "code",
   "execution_count": 1128,
   "id": "643d525c",
   "metadata": {},
   "outputs": [
    {
     "name": "stdout",
     "output_type": "stream",
     "text": [
      "R squared error :  0.8237111963734253\n"
     ]
    }
   ],
   "source": [
    "#R squared error for evaluation\n",
    "lasso_train_score = metrics.r2_score(Y_train,lasso_reg_train_predict)\n",
    "\n",
    "print(\"R squared error : \", lasso_train_score)"
   ]
  },
  {
   "cell_type": "code",
   "execution_count": 1129,
   "id": "29de75e5",
   "metadata": {},
   "outputs": [
    {
     "data": {
      "image/png": "[encoded data removed]",
      "text/plain": [
       "<Figure size 432x288 with 1 Axes>"
      ]
     },
     "metadata": {
      "needs_background": "light"
     },
     "output_type": "display_data"
    }
   ],
   "source": [
    "#Lets visualise the actual and predicted selling price\n",
    "plt.scatter(Y_train,lasso_reg_train_predict)\n",
    "plt.plot(range(12), range(12))\n",
    "plt.xlabel(\"Actual Price\")\n",
    "plt.ylabel(\"Predicted Price\")\n",
    "plt.title(\"Actual Price v/s Prdicted Price\")\n",
    "plt.show()"
   ]
  },
  {
   "cell_type": "code",
   "execution_count": 1130,
   "id": "b3621f2b",
   "metadata": {},
   "outputs": [],
   "source": [
    "#On lets do same for test\n",
    "lasso_reg_model_test = Lasso()"
   ]
  },
  {
   "cell_type": "code",
   "execution_count": 1131,
   "id": "89aba8bd",
   "metadata": {},
   "outputs": [
    {
     "data": {
      "text/plain": [
       "Lasso()"
      ]
     },
     "execution_count": 1131,
     "metadata": {},
     "output_type": "execute_result"
    }
   ],
   "source": [
    "lasso_reg_model_test.fit(X_test,Y_test)"
   ]
  },
  {
   "cell_type": "code",
   "execution_count": 1132,
   "id": "7a4a6ce5",
   "metadata": {},
   "outputs": [],
   "source": [
    "lasso_reg_test_predict=lasso_reg_model_test.predict(X_test)"
   ]
  },
  {
   "cell_type": "code",
   "execution_count": 1133,
   "id": "92cc649f",
   "metadata": {},
   "outputs": [
    {
     "name": "stdout",
     "output_type": "stream",
     "text": [
      "R squared error :  0.7764471891246341\n"
     ]
    }
   ],
   "source": [
    "#R squared error for evaluation\n",
    "lasso_test_score = metrics.r2_score(Y_test,lasso_reg_test_predict)\n",
    "\n",
    "print(\"R squared error : \", lasso_test_score)"
   ]
  },
  {
   "cell_type": "code",
   "execution_count": 1134,
   "id": "c1d7cbca",
   "metadata": {},
   "outputs": [
    {
     "data": {
      "image/png": "[encoded data removed]",
      "text/plain": [
       "<Figure size 432x288 with 1 Axes>"
      ]
     },
     "metadata": {
      "needs_background": "light"
     },
     "output_type": "display_data"
    }
   ],
   "source": [
    "#Lets visualise the actual and predicted selling price\n",
    "plt.scatter(Y_test,lasso_reg_test_predict)\n",
    "plt.plot(range(12), range(12))\n",
    "plt.xlabel(\"Actual Price\")\n",
    "plt.ylabel(\"Predicted Price\")\n",
    "plt.title(\"Actual Price v/s Prdicted Price\")\n",
    "plt.show()"
   ]
  },
  {
   "cell_type": "markdown",
   "id": "c2472d47",
   "metadata": {},
   "source": [
    "# MODEL TRAINING WITH RIDGE REGRESSION "
   ]
  },
  {
   "cell_type": "code",
   "execution_count": 1135,
   "id": "2616f277",
   "metadata": {},
   "outputs": [],
   "source": [
    "from sklearn.linear_model import Ridge"
   ]
  },
  {
   "cell_type": "code",
   "execution_count": 1136,
   "id": "124d0492",
   "metadata": {},
   "outputs": [],
   "source": [
    "ridge_reg_model_train = Ridge()"
   ]
  },
  {
   "cell_type": "code",
   "execution_count": 1137,
   "id": "25da61c7",
   "metadata": {},
   "outputs": [
    {
     "data": {
      "text/plain": [
       "Ridge()"
      ]
     },
     "execution_count": 1137,
     "metadata": {},
     "output_type": "execute_result"
    }
   ],
   "source": [
    "#train the model\n",
    "ridge_reg_model_train.fit(X_train, Y_train)"
   ]
  },
  {
   "cell_type": "code",
   "execution_count": 1138,
   "id": "ba05d615",
   "metadata": {},
   "outputs": [],
   "source": [
    "##Model Prediction\n",
    "#prediction \n",
    "ridge_reg_train_predict = ridge_reg_model_train.predict(X_train)"
   ]
  },
  {
   "cell_type": "code",
   "execution_count": 1139,
   "id": "089c46b2",
   "metadata": {},
   "outputs": [
    {
     "name": "stdout",
     "output_type": "stream",
     "text": [
      "R squared error :  0.8747859895466268\n"
     ]
    }
   ],
   "source": [
    "#R squared error for evaluation\n",
    "ridge_train_score = metrics.r2_score(Y_train,ridge_reg_train_predict)\n",
    "\n",
    "print(\"R squared error : \", ridge_train_score)"
   ]
  },
  {
   "cell_type": "code",
   "execution_count": 1140,
   "id": "ecd71a26",
   "metadata": {},
   "outputs": [
    {
     "data": {
      "image/png": "[encoded data removed]",
      "text/plain": [
       "<Figure size 432x288 with 1 Axes>"
      ]
     },
     "metadata": {
      "needs_background": "light"
     },
     "output_type": "display_data"
    }
   ],
   "source": [
    "#Lets visualise the actual and predicted selling price\n",
    "plt.scatter(Y_train,ridge_reg_train_predict)\n",
    "plt.plot(range(12), range(12))\n",
    "plt.xlabel(\"Actual Price\")\n",
    "plt.ylabel(\"Predicted Price\")\n",
    "plt.title(\"Actual Price v/s Prdicted Price\")\n",
    "plt.show()"
   ]
  },
  {
   "cell_type": "code",
   "execution_count": 1141,
   "id": "ff4d3b85",
   "metadata": {},
   "outputs": [],
   "source": [
    "#On lets do same for test\n",
    "ridge_reg_model_test = Ridge()"
   ]
  },
  {
   "cell_type": "code",
   "execution_count": 1142,
   "id": "65da7fdf",
   "metadata": {},
   "outputs": [
    {
     "data": {
      "text/plain": [
       "Ridge()"
      ]
     },
     "execution_count": 1142,
     "metadata": {},
     "output_type": "execute_result"
    }
   ],
   "source": [
    "ridge_reg_model_test.fit(X_test,Y_test)"
   ]
  },
  {
   "cell_type": "code",
   "execution_count": 1143,
   "id": "794c6ab7",
   "metadata": {},
   "outputs": [],
   "source": [
    "ridge_reg_test_predict=ridge_reg_model_test.predict(X_test)"
   ]
  },
  {
   "cell_type": "code",
   "execution_count": 1144,
   "id": "b66cabee",
   "metadata": {},
   "outputs": [
    {
     "name": "stdout",
     "output_type": "stream",
     "text": [
      "R squared error :  0.8650277872778854\n"
     ]
    }
   ],
   "source": [
    "#R squared error for evaluation\n",
    "ridge_test_score = metrics.r2_score(Y_test,ridge_reg_test_predict)\n",
    "\n",
    "print(\"R squared error : \", ridge_test_score)"
   ]
  },
  {
   "cell_type": "code",
   "execution_count": 1145,
   "id": "d1f1115a",
   "metadata": {},
   "outputs": [
    {
     "data": {
      "image/png": "[encoded data removed]",
      "text/plain": [
       "<Figure size 432x288 with 1 Axes>"
      ]
     },
     "metadata": {
      "needs_background": "light"
     },
     "output_type": "display_data"
    }
   ],
   "source": [
    "#Lets visualise the actual and predicted selling price\n",
    "plt.scatter(Y_test,ridge_reg_test_predict)\n",
    "plt.plot(range(12), range(12))\n",
    "plt.xlabel(\"Actual Price\")\n",
    "plt.ylabel(\"Predicted Price\")\n",
    "plt.title(\"Actual Price v/s Prdicted Price\")\n",
    "plt.show()"
   ]
  },
  {
   "cell_type": "markdown",
   "id": "1101f08b",
   "metadata": {},
   "source": [
    "All three models are showing sort of similar pattern but Ridge Regression model is showing better \n",
    "R squared value for both train and test data\n"
   ]
  },
  {
   "cell_type": "code",
   "execution_count": null,
   "id": "66a8efd3",
   "metadata": {},
   "outputs": [],
   "source": []
  }
 ],
 "metadata": {
  "kernelspec": {
   "display_name": "Python 3 (ipykernel)",
   "language": "python",
   "name": "python3"
  },
  "language_info": {
   "codemirror_mode": {
    "name": "ipython",
    "version": 3
   },
   "file_extension": ".py",
   "mimetype": "text/x-python",
   "name": "python",
   "nbconvert_exporter": "python",
   "pygments_lexer": "ipython3",
   "version": "3.9.7"
  }
 },
 "nbformat": 4,
 "nbformat_minor": 5
}
